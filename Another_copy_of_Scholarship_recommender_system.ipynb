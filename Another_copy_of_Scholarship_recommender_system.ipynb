{
  "cells": [
    {
      "cell_type": "markdown",
      "metadata": {
        "id": "view-in-github",
        "colab_type": "text"
      },
      "source": [
        "<a href=\"https://colab.research.google.com/github/Sankwan/edisons/blob/main/Another_copy_of_Scholarship_recommender_system.ipynb\" target=\"_parent\"><img src=\"https://colab.research.google.com/assets/colab-badge.svg\" alt=\"Open In Colab\"/></a>"
      ]
    },
    {
      "cell_type": "markdown",
      "source": [
        "\n",
        "# INSTRUCTIONS\n",
        "\n",
        "\n",
        "1.   Click on \"File\", then \"Save a Copy in Drive.\"\n",
        "2.   Go to the \"Runtime\" menu and select \"Run all.\"\n",
        "3. Enter your field of study when prompted. Don't change anything in the code. Wait till you see this question \" Enter your area of specialization:\" Then you type your answer\n"
      ],
      "metadata": {
        "id": "IXygs5Q4OGCH"
      }
    },
    {
      "cell_type": "code",
      "execution_count": null,
      "metadata": {
        "colab": {
          "base_uri": "https://localhost:8080/"
        },
        "id": "pnXVYtawKlzF",
        "outputId": "77eed7a8-0bac-4402-b18a-54f556abc68e"
      },
      "outputs": [
        {
          "output_type": "stream",
          "name": "stdout",
          "text": [
            "Collecting fuzzywuzzy\n",
            "  Downloading fuzzywuzzy-0.18.0-py2.py3-none-any.whl (18 kB)\n",
            "Installing collected packages: fuzzywuzzy\n",
            "Successfully installed fuzzywuzzy-0.18.0\n"
          ]
        }
      ],
      "source": [
        "pip install fuzzywuzzy"
      ]
    },
    {
      "cell_type": "code",
      "execution_count": null,
      "metadata": {
        "id": "gWa8WPbDM3I8",
        "colab": {
          "base_uri": "https://localhost:8080/"
        },
        "outputId": "32600a71-a120-47a9-af28-f56df6f17b6c"
      },
      "outputs": [
        {
          "output_type": "stream",
          "name": "stderr",
          "text": [
            "/usr/local/lib/python3.10/dist-packages/fuzzywuzzy/fuzz.py:11: UserWarning: Using slow pure-python SequenceMatcher. Install python-Levenshtein to remove this warning\n",
            "  warnings.warn('Using slow pure-python SequenceMatcher. Install python-Levenshtein to remove this warning')\n"
          ]
        }
      ],
      "source": [
        "# @title Importing libraries\n",
        "import pandas as pd\n",
        "import numpy as np\n",
        "from fuzzywuzzy import fuzz\n",
        "\n",
        "scholarship_df = pd.read_csv(\"https://raw.githubusercontent.com/AskBarbara/CSV/main/scholarship_df.csv\")\n"
      ]
    },
    {
      "cell_type": "code",
      "source": [
        "# @title Area of interest request\n",
        "\n",
        "\n",
        "# Ask the user to enter their area of specialization\n",
        "user_specialization = input(\"Enter your area of specialization: \").lower()\n",
        "\n",
        "# Convert the 'Area of Specialisation' column in the DataFrame to lowercase for case-insensitive matching\n",
        "scholarship_df['Area of specialisation'] = scholarship_df['Area of specialisation'].str.lower()\n",
        "\n",
        "# Create a list of specializations from your DataFrame\n",
        "specializations = scholarship_df['Area of specialisation'].unique().tolist()\n",
        "\n",
        "# Initialize a dictionary to store similarity scores\n",
        "similarity_scores = {}\n",
        "\n",
        "# Calculate similarity scores between the user's input and specializations\n",
        "for spec in specializations:\n",
        "    similarity_score = fuzz.partial_ratio(user_specialization, spec.lower())\n",
        "    similarity_scores[spec] = similarity_score\n",
        "\n",
        "# Sort specializations by similarity score in descending order\n",
        "sorted_specializations = sorted(similarity_scores.items(), key=lambda x: x[1], reverse=True)\n",
        "\n",
        "# Extract matched specializations with a similarity score threshold (e.g., 80)\n",
        "threshold = 80  # Adjust as needed\n",
        "matched_specializations = [spec for spec, score in sorted_specializations if score >= threshold]\n",
        "\n",
        "# Filter scholarships based on matched specializations\n",
        "recommended_scholarships = scholarship_df[scholarship_df['Area of specialisation'].isin(matched_specializations)]\n",
        "\n",
        "# Remove duplicate scholarships based on their names\n",
        "recommended_scholarships = recommended_scholarships.drop_duplicates(subset=['Name'])\n",
        "\n",
        "# Check if there are any recommended scholarships\n",
        "if recommended_scholarships.empty:\n",
        "    print(f\"Unfortunately, there are no scholarships for your specialization. Try another closely related field or All disciplines.\")\n",
        "else:\n",
        "    num_scholarships = len(recommended_scholarships)\n",
        "    print(f\"I have {num_scholarships} suggestions for you in {user_specialization}. Here are the scholarships/universities to start your search:\\n\")\n",
        "    for index, scholarship in recommended_scholarships.iterrows():\n",
        "        print(f\"• {scholarship['Name']}\")\n"
      ],
      "metadata": {
        "id": "P8T8yEefKvcE"
      },
      "execution_count": null,
      "outputs": []
    }
  ],
  "metadata": {
    "colab": {
      "provenance": [],
      "include_colab_link": true
    },
    "kernelspec": {
      "display_name": "Python 3",
      "language": "python",
      "name": "python3"
    },
    "language_info": {
      "codemirror_mode": {
        "name": "ipython",
        "version": 3
      },
      "file_extension": ".py",
      "mimetype": "text/x-python",
      "name": "python",
      "nbconvert_exporter": "python",
      "pygments_lexer": "ipython3",
      "version": "3.9.16"
    }
  },
  "nbformat": 4,
  "nbformat_minor": 0
}